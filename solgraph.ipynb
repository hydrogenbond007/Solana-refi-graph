{
 "cells": [
  {
   "cell_type": "code",
   "execution_count": 1,
   "id": "9565526b",
   "metadata": {},
   "outputs": [],
   "source": [
    "import pandas as pd\n"
   ]
  },
  {
   "cell_type": "code",
   "execution_count": 6,
   "id": "3d4a6ee9",
   "metadata": {},
   "outputs": [],
   "source": [
    "import numpy as np\n",
    "import csv\n",
    "\n",
    "with open(\"refi.csv\", \"r\") as csv_file: \n",
    "    csv_reader = csv.reader(csv_file) # some of these functions can also be replaced by pandas library functions\n",
    "    header = next(csv_reader) # skips header as most of the times its not much of use\n",
    "    for row in csv_reader: # now just add which columns you want in the markdown fiel\n",
    "        with open(f\"{row[0]}.md\", \"w\") as md_file:\n",
    "            md_file.write(\"# \" + row[0] + \"\\n\")\n",
    "            md_file.write(\"**Link** \" + row[1] + \"\\n\")\n",
    "            md_file.write(\"**Description:** \" + row[2] + \"\\n\")\n",
    "            md_file.write(\"**Founders**\"+ row[3] + \"\\n\")\n",
    "            md_file.write(\"**Internal POC:**\" + row[4] + \"\\n\")\n",
    "            md_file.write(\"**Solana Connection:**\" + row[5] + \"\\n\")\n",
    "            md_file.write(\"**Status:**\" + row[6] + \"\\n\")\n",
    "            md_file.write(\"**Notes **\" + row[7] + \"\\n\")\n",
    "            md_file.write(\"**Team Email**\" + row[8] + \"\\n\")\n",
    "# here you cn do all sorts of fancy things with md."
   ]
  },
  {
   "cell_type": "code",
   "execution_count": 5,
   "id": "673f0b12",
   "metadata": {},
   "outputs": [
    {
     "name": "stdout",
     "output_type": "stream",
     "text": [
      "Solana.md      Toucan.md      sol.csv        solgraph.ipynb \u001b[31msoll.numbers\u001b[m\u001b[m\r\n"
     ]
    }
   ],
   "source": [
    "!ls"
   ]
  },
  {
   "cell_type": "code",
   "execution_count": null,
   "id": "9a6d5b50",
   "metadata": {},
   "outputs": [],
   "source": []
  }
 ],
 "metadata": {
  "kernelspec": {
   "display_name": "Python 3 (ipykernel)",
   "language": "python",
   "name": "python3"
  },
  "language_info": {
   "codemirror_mode": {
    "name": "ipython",
    "version": 3
   },
   "file_extension": ".py",
   "mimetype": "text/x-python",
   "name": "python",
   "nbconvert_exporter": "python",
   "pygments_lexer": "ipython3",
   "version": "3.9.12"
  }
 },
 "nbformat": 4,
 "nbformat_minor": 5
}
